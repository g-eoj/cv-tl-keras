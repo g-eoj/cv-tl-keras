{
 "cells": [
  {
   "cell_type": "markdown",
   "metadata": {},
   "source": [
    "## Cross Validate Transfer Learning on Subset of CIFAR-10 Dataset.\n",
    "Using 100 random images from each CIFAR-10 class, this notebook shows how to:\n",
    "- Setup for the `retrain.cross_validate()` function:\n",
    "    - Extract and cache features from a pre-trained model.\n",
    "    - Define classes to combine.\n",
    "    - Define classes to exclude.\n",
    "    - Define a new Keras model.\n",
    "    - Define optimizer.\n",
    "- Use the `retrain.cross_validate()` function on the new model:\n",
    "    - Train with the extracted features and definitions.\n",
    "    - Balance classes with oversampling.\n",
    "- Use the results CSVs to make ROC cruves.    \n",
    "    \n",
    "*Troubleshooting:*\n",
    "If you have an error that wont go away, try manually deleting `./tmp/cifar10-subset-vgg16-bottlenecks.h5`."
   ]
  },
  {
   "cell_type": "code",
   "execution_count": 1,
   "metadata": {},
   "outputs": [
    {
     "name": "stderr",
     "output_type": "stream",
     "text": [
      "Using TensorFlow backend.\n"
     ]
    }
   ],
   "source": [
    "import os\n",
    "import shutil\n",
    "import subprocess\n",
    "import sys\n",
    "\n",
    "import keras\n",
    "from keras import backend as K\n",
    "from keras import optimizers\n",
    "from keras.layers import Dense, Dropout, Flatten, GlobalAveragePooling2D, Input\n",
    "from keras.models import Model, Sequential\n",
    "\n",
    "sys.path.append('../') # import modules from parent directory\n",
    "import report\n",
    "import retrain"
   ]
  },
  {
   "cell_type": "markdown",
   "metadata": {},
   "source": [
    "#### Data\n",
    "\n",
    "For the purposes of this demonstration, 100 images from each class in the [CIFAR-10](https://www.cs.toronto.edu/~kriz/cifar.html) dataset are used. The images are saved as jpgs in labeled folders: \n",
    "\n",
    "    cifar10-subset\n",
    "    ├── airplane\n",
    "    ├── automobile\n",
    "    ├── bird\n",
    "    ├── cat\n",
    "    ├── deer\n",
    "    ├── dog\n",
    "    ├── frog\n",
    "    ├── horse\n",
    "    ├── ship\n",
    "    └── truck\n",
    "    \n",
    "The download process can take a little while but only happens the first time the code is run."
   ]
  },
  {
   "cell_type": "code",
   "execution_count": 2,
   "metadata": {},
   "outputs": [],
   "source": [
    "# download and save a subset of cifar10 if needed\n",
    "if not os.path.exists('cifar10-subset'):\n",
    "    print(\"Saving subset of cifar10 images as jpgs...\\n\")\n",
    "    subprocess.call('python ./cifar10-as-jpgs.py', shell=True);"
   ]
  },
  {
   "cell_type": "markdown",
   "metadata": {},
   "source": [
    "## Setup\n",
    "\n",
    "Setup mainly involves creating variables that will ultimately be passed to the `cross_validate` function."
   ]
  },
  {
   "cell_type": "code",
   "execution_count": 3,
   "metadata": {},
   "outputs": [],
   "source": [
    "# setup paths\n",
    "data_dir = 'cifar10-subset' # contains images in labeled folders\n",
    "tmp_dir = 'tmp' \n",
    "bottleneck_file = os.path.join(tmp_dir, 'cifar10-subset-vgg16-bottlenecks.h5')\n",
    "\n",
    "# remove any results files from previous runs\n",
    "results_dir = os.path.join(tmp_dir, 'results')\n",
    "if os.path.exists(results_dir):\n",
    "    shutil.rmtree(results_dir)\n",
    "os.makedirs(results_dir)"
   ]
  },
  {
   "cell_type": "markdown",
   "metadata": {},
   "source": [
    "Display a summary of images in `data_dir`."
   ]
  },
  {
   "cell_type": "code",
   "execution_count": 4,
   "metadata": {
    "scrolled": false
   },
   "outputs": [
    {
     "name": "stdout",
     "output_type": "stream",
     "text": [
      "Data Summary: cifar10-subset \n",
      "\n",
      "     Class      Count\n",
      "---------------------\n",
      "  airplane        100\n",
      "automobile        100\n",
      "      bird        100\n",
      "       cat        100\n",
      "      deer        100\n",
      "       dog        100\n",
      "      frog        100\n",
      "     horse        100\n",
      "      ship        100\n",
      "     truck        100\n",
      "---------------------\n",
      "10 classes | 1000 images\n",
      "median class size: 100.0 | mad: 0.0\n",
      "mean class size: 100.0 | sd: 0.0\n",
      "\n"
     ]
    }
   ],
   "source": [
    "report.data_summary(data_dir)"
   ]
  },
  {
   "cell_type": "markdown",
   "metadata": {},
   "source": [
    "### Extract Features From a Pre-Trained Model\n",
    "\n",
    "First select the base model to extract features from.\n",
    "Here, a VGG16 model that has been pretrained on the ImageNet dataset is used.\n",
    "If a bottleneck file doesn't already exist, the `retrain.create_bottlenecks()` function feeds the images in `data_dir` to the base model and saves the features and other data to a bottleneck file in the [HDF5](http://www.h5py.org/) format.\n",
    "The first time this runs, it will take a while to generate features for every image.\n",
    "Once a bottleneck file already exists, the function will do nothing.\n",
    " \n",
    "See the docstring of `retrain.create_bottlenecks()` for more information."
   ]
  },
  {
   "cell_type": "code",
   "execution_count": 5,
   "metadata": {},
   "outputs": [
    {
     "name": "stdout",
     "output_type": "stream",
     "text": [
      "vgg16 base model with input shape (None, 64, 64, 3) loaded.\n",
      "\n",
      "Generating bottleneck file... \n",
      "Found 1000 images belonging to 10 classes.\n",
      "1000/1000 [==============================] - 109s 109ms/step\n",
      "tmp\\cifar10-subset-vgg16-bottlenecks.h5 created.\n",
      "\n"
     ]
    }
   ],
   "source": [
    "base_model = retrain.load_base_model('VGG16', input_shape=(64, 64, 3))\n",
    "retrain.create_bottlenecks(bottleneck_file, data_dir, base_model)"
   ]
  },
  {
   "cell_type": "markdown",
   "metadata": {},
   "source": [
    "### Combine Classes\n",
    "The combine variable is a dictionary.\n",
    "The classes in the tuple value will be combined into the one class defined by the corresponding key.\n",
    "Here, all classes except for 'bird' are defined as belonging to two new classes."
   ]
  },
  {
   "cell_type": "code",
   "execution_count": 6,
   "metadata": {},
   "outputs": [],
   "source": [
    "combine = {'animals': ('cat', 'deer', 'dog', 'frog', 'horse'),\n",
    "           'not-animals': ('airplane', 'automobile','ship', 'truck')}"
   ]
  },
  {
   "cell_type": "markdown",
   "metadata": {},
   "source": [
    "### Exclude Classes\n",
    "Here the class 'bird' is defined as excluded. The exclude variable is always a tuple."
   ]
  },
  {
   "cell_type": "code",
   "execution_count": 7,
   "metadata": {},
   "outputs": [],
   "source": [
    "exclude = ('bird', )"
   ]
  },
  {
   "cell_type": "markdown",
   "metadata": {},
   "source": [
    "### Define New Model and Optimizer\n",
    "The new model will be trained on features stored in the bottleneck file and will classify images into the two new classes that were defined."
   ]
  },
  {
   "cell_type": "code",
   "execution_count": 8,
   "metadata": {},
   "outputs": [],
   "source": [
    "K.clear_session() # reset TensorFlow graph each time this cell is run\n",
    "\n",
    "model = Sequential(name='final_layers')\n",
    "model.add(Dense(\n",
    "    units=256, \n",
    "    activation='relu', \n",
    "    input_shape=base_model.output_shape[1:]))\n",
    "model.add(Dropout(0.5))\n",
    "# want to classify the 2 new classes\n",
    "model.add(Dense(units=2, activation='softmax'))\n",
    "\n",
    "# define optimizer\n",
    "optimizer = optimizers.Adam(lr=0.001, beta_1=0.9, beta_2=0.999)"
   ]
  },
  {
   "cell_type": "markdown",
   "metadata": {},
   "source": [
    "## Cross Validate\n",
    "Now the variables created during setup are passed to the `cross_validate` function.\n",
    "\n",
    "### Balance Classes\n",
    "The two new classes are balanced with `resample=1.0`, which tells the `cross_validate` function to oversample the training data for each fold, such that every class has the same number of training examples as the class with the most examples.\n",
    "\n",
    "See the docstring of `retrain.cross_validate()` for more cross validation options."
   ]
  },
  {
   "cell_type": "code",
   "execution_count": 9,
   "metadata": {
    "scrolled": true
   },
   "outputs": [
    {
     "name": "stdout",
     "output_type": "stream",
     "text": [
      "Loading tmp\\cifar10-subset-vgg16-bottlenecks.h5...\n",
      "\n",
      "Making animals class from ('cat', 'deer', 'dog', 'frog', 'horse')\n",
      "Making not-animals class from ('airplane', 'automobile', 'ship', 'truck')\n",
      "Updating class numbers...\n",
      "\n",
      "Removing ('bird',) classes.\n",
      "Updating class numbers...\n",
      "\n",
      "Performing stratified 5-fold cross validation...\n",
      "Fold 1/5\n",
      "Oversampling to balance classes in training set.\n",
      "Training set sizes will be at least 1.0 times max training set class size of 400.\n",
      "Class number 1 training set size changed: 320 -> 400\n",
      "Epoch 1/10\n",
      " - 0s - loss: 1.8303 - acc: 0.8125\n",
      "Epoch 2/10\n",
      " - 0s - loss: 0.8880 - acc: 0.9225\n",
      "Epoch 3/10\n",
      " - 0s - loss: 0.5743 - acc: 0.9400\n",
      "Epoch 4/10\n",
      " - 0s - loss: 0.4288 - acc: 0.9487\n",
      "Epoch 5/10\n",
      " - 0s - loss: 0.3943 - acc: 0.9612\n",
      "Epoch 6/10\n",
      " - 0s - loss: 0.2560 - acc: 0.9725\n",
      "Epoch 7/10\n",
      " - 0s - loss: 0.2848 - acc: 0.9700\n",
      "Epoch 8/10\n",
      " - 0s - loss: 0.2510 - acc: 0.9725\n",
      "Epoch 9/10\n",
      " - 0s - loss: 0.2290 - acc: 0.9775\n",
      "Epoch 10/10\n",
      " - 0s - loss: 0.1666 - acc: 0.9812\n",
      "Accuracy: 0.9444\n",
      "F1 Scores: [0.95098039 0.93589744]\n",
      "               --- Confusion Matrix (actual, predicted) ---\n",
      "                    animals not-animals \n",
      "        animals          97           3 \n",
      "    not-animals           7          73 \n",
      "\n",
      "Fold 2/5\n",
      "Oversampling to balance classes in training set.\n",
      "Training set sizes will be at least 1.0 times max training set class size of 400.\n",
      "Class number 1 training set size changed: 320 -> 400\n",
      "Epoch 1/10\n",
      " - 0s - loss: 2.3339 - acc: 0.7888\n",
      "Epoch 2/10\n",
      " - 0s - loss: 0.8659 - acc: 0.9175\n",
      "Epoch 3/10\n",
      " - 0s - loss: 0.6353 - acc: 0.9400\n",
      "Epoch 4/10\n",
      " - 0s - loss: 0.5668 - acc: 0.9550\n",
      "Epoch 5/10\n",
      " - 0s - loss: 0.3771 - acc: 0.9600\n",
      "Epoch 6/10\n",
      " - 0s - loss: 0.3988 - acc: 0.9575\n",
      "Epoch 7/10\n",
      " - 0s - loss: 0.1770 - acc: 0.9775\n",
      "Epoch 8/10\n",
      " - 0s - loss: 0.1703 - acc: 0.9788\n",
      "Epoch 9/10\n",
      " - 0s - loss: 0.1190 - acc: 0.9800\n",
      "Epoch 10/10\n",
      " - 0s - loss: 0.1830 - acc: 0.9788\n",
      "Accuracy: 0.9556\n",
      "F1 Scores: [0.96078431 0.94871795]\n",
      "               --- Confusion Matrix (actual, predicted) ---\n",
      "                    animals not-animals \n",
      "        animals          98           2 \n",
      "    not-animals           6          74 \n",
      "\n",
      "Fold 3/5\n",
      "Oversampling to balance classes in training set.\n",
      "Training set sizes will be at least 1.0 times max training set class size of 400.\n",
      "Class number 1 training set size changed: 320 -> 400\n",
      "Epoch 1/10\n",
      " - 0s - loss: 2.4288 - acc: 0.7612\n",
      "Epoch 2/10\n",
      " - 0s - loss: 0.7851 - acc: 0.9163\n",
      "Epoch 3/10\n",
      " - 0s - loss: 0.6188 - acc: 0.9413\n",
      "Epoch 4/10\n",
      " - 0s - loss: 0.4504 - acc: 0.9513\n",
      "Epoch 5/10\n",
      " - 0s - loss: 0.3956 - acc: 0.9625\n",
      "Epoch 6/10\n",
      " - 0s - loss: 0.5240 - acc: 0.9475\n",
      "Epoch 7/10\n",
      " - 0s - loss: 0.3491 - acc: 0.9688\n",
      "Epoch 8/10\n",
      " - 0s - loss: 0.3141 - acc: 0.9725\n",
      "Epoch 9/10\n",
      " - 0s - loss: 0.2763 - acc: 0.9763\n",
      "Epoch 10/10\n",
      " - 0s - loss: 0.3752 - acc: 0.9688\n",
      "Accuracy: 0.9667\n",
      "F1 Scores: [0.97058824 0.96153846]\n",
      "               --- Confusion Matrix (actual, predicted) ---\n",
      "                    animals not-animals \n",
      "        animals          99           1 \n",
      "    not-animals           5          75 \n",
      "\n",
      "Fold 4/5\n",
      "Oversampling to balance classes in training set.\n",
      "Training set sizes will be at least 1.0 times max training set class size of 400.\n",
      "Class number 1 training set size changed: 320 -> 400\n",
      "Epoch 1/10\n",
      " - 0s - loss: 2.3055 - acc: 0.7825\n",
      "Epoch 2/10\n",
      " - 0s - loss: 0.7232 - acc: 0.9312\n",
      "Epoch 3/10\n",
      " - 0s - loss: 0.5183 - acc: 0.9450\n",
      "Epoch 4/10\n",
      " - 0s - loss: 0.3947 - acc: 0.9637\n",
      "Epoch 5/10\n",
      " - 0s - loss: 0.3375 - acc: 0.9650\n",
      "Epoch 6/10\n",
      " - 0s - loss: 0.2341 - acc: 0.9750\n",
      "Epoch 7/10\n",
      " - 0s - loss: 0.2341 - acc: 0.9763\n",
      "Epoch 8/10\n",
      " - 0s - loss: 0.2631 - acc: 0.9713\n",
      "Epoch 9/10\n",
      " - 0s - loss: 0.2243 - acc: 0.9800\n",
      "Epoch 10/10\n",
      " - 0s - loss: 0.1443 - acc: 0.9812\n",
      "Accuracy: 0.95\n",
      "F1 Scores: [0.95431472 0.94478528]\n",
      "               --- Confusion Matrix (actual, predicted) ---\n",
      "                    animals not-animals \n",
      "        animals          94           6 \n",
      "    not-animals           3          77 \n",
      "\n",
      "Fold 5/5\n",
      "Oversampling to balance classes in training set.\n",
      "Training set sizes will be at least 1.0 times max training set class size of 400.\n",
      "Class number 1 training set size changed: 320 -> 400\n",
      "Epoch 1/10\n",
      " - 0s - loss: 2.0313 - acc: 0.7888\n",
      "Epoch 2/10\n",
      " - 0s - loss: 0.7593 - acc: 0.9213\n",
      "Epoch 3/10\n",
      " - 0s - loss: 0.4643 - acc: 0.9413\n",
      "Epoch 4/10\n",
      " - 0s - loss: 0.4458 - acc: 0.9500\n",
      "Epoch 5/10\n",
      " - 0s - loss: 0.2523 - acc: 0.9738\n",
      "Epoch 6/10\n",
      " - 0s - loss: 0.2234 - acc: 0.9750\n",
      "Epoch 7/10\n",
      " - 0s - loss: 0.1535 - acc: 0.9738\n",
      "Epoch 8/10\n",
      " - 0s - loss: 0.1494 - acc: 0.9775\n",
      "Epoch 9/10\n",
      " - 0s - loss: 0.0912 - acc: 0.9850\n",
      "Epoch 10/10\n",
      " - 0s - loss: 0.1110 - acc: 0.9875\n",
      "Accuracy: 0.9556\n",
      "F1 Scores: [0.96 0.95]\n",
      "               --- Confusion Matrix (actual, predicted) ---\n",
      "                    animals not-animals \n",
      "        animals          96           4 \n",
      "    not-animals           4          76 \n",
      "\n",
      "--- 5-Fold Cross Validation Results ---\n",
      "Average Accuracy: 0.9544 | Standard Deviation: 0.0074\n",
      "Accuracy by fold: [0.9444444444444444, 0.9555555555555556, 0.9666666666666667, 0.95, 0.9555555555555556]\n",
      "\n",
      "Average F1 Score overall: 0.9538 | Standard Deviation: 0.0056\n",
      "Average F1 Score by class: [0.95933353 0.94818782]\n",
      "STD Avg F1 Score by class: [0.00669598 0.00829983]\n",
      "\n",
      "               --- Confusion Matrix (actual, predicted) ---\n",
      "                    animals not-animals \n",
      "        animals        0.97        0.03 \n",
      "    not-animals        0.06        0.94 \n",
      "\n",
      "           --- Class Balance ---  \n",
      "               animals not-animals \n",
      "    Fold 1         100          80 \n",
      "    Fold 2         100          80 \n",
      "    Fold 3         100          80 \n",
      "    Fold 4         100          80 \n",
      "    Fold 5         100          80 \n",
      "     Total         500         400 \n",
      "\n"
     ]
    }
   ],
   "source": [
    "retrain.cross_validate(\n",
    "        model, optimizer, bottleneck_file, tmp_dir, data_dir, \n",
    "        combine=combine, exclude=exclude, resample=1.0, \n",
    "        base_model=base_model)"
   ]
  },
  {
   "cell_type": "markdown",
   "metadata": {},
   "source": [
    "## Use Results CSVs\n",
    "\n",
    "In addition to the console output, raw results from each fold are saved to CSVs. These CSVs can be used for further analysis in other platforms such as R, Excel, etc. Below is an example of how to use the CSVs to create [ROC](https://en.wikipedia.org/wiki/Receiver_operating_characteristic) curves. Due to defining two classes with combine and exclude, the fold CSVs contain results from binary classification."
   ]
  },
  {
   "cell_type": "code",
   "execution_count": 10,
   "metadata": {},
   "outputs": [],
   "source": [
    "%matplotlib inline\n",
    "\n",
    "import matplotlib.pyplot as plt\n",
    "import numpy as np\n",
    "import pandas as pd\n",
    "\n",
    "from scipy import interp\n",
    "from sklearn.metrics import roc_curve, auc"
   ]
  },
  {
   "cell_type": "markdown",
   "metadata": {},
   "source": [
    "Load the fold csvs into Pandas Dataframes and store in a list. Note that for this example no groups were used, so Pandas puts `NaN` in the `group_name` column."
   ]
  },
  {
   "cell_type": "code",
   "execution_count": 11,
   "metadata": {},
   "outputs": [
    {
     "name": "stdout",
     "output_type": "stream",
     "text": [
      "Fold 1:\n"
     ]
    },
    {
     "data": {
      "text/html": [
       "<div>\n",
       "<style scoped>\n",
       "    .dataframe tbody tr th:only-of-type {\n",
       "        vertical-align: middle;\n",
       "    }\n",
       "\n",
       "    .dataframe tbody tr th {\n",
       "        vertical-align: top;\n",
       "    }\n",
       "\n",
       "    .dataframe thead th {\n",
       "        text-align: right;\n",
       "    }\n",
       "</style>\n",
       "<table border=\"1\" class=\"dataframe\">\n",
       "  <thead>\n",
       "    <tr style=\"text-align: right;\">\n",
       "      <th></th>\n",
       "      <th>file_name</th>\n",
       "      <th>actual_class</th>\n",
       "      <th>group_name</th>\n",
       "      <th>score animals</th>\n",
       "      <th>score not-animals</th>\n",
       "    </tr>\n",
       "  </thead>\n",
       "  <tbody>\n",
       "    <tr>\n",
       "      <th>0</th>\n",
       "      <td>airplane\\19.jpg</td>\n",
       "      <td>not-animals</td>\n",
       "      <td>NaN</td>\n",
       "      <td>1.389156e-10</td>\n",
       "      <td>1.000000</td>\n",
       "    </tr>\n",
       "    <tr>\n",
       "      <th>1</th>\n",
       "      <td>airplane\\23.jpg</td>\n",
       "      <td>not-animals</td>\n",
       "      <td>NaN</td>\n",
       "      <td>2.630956e-35</td>\n",
       "      <td>1.000000</td>\n",
       "    </tr>\n",
       "    <tr>\n",
       "      <th>2</th>\n",
       "      <td>airplane\\24.jpg</td>\n",
       "      <td>not-animals</td>\n",
       "      <td>NaN</td>\n",
       "      <td>0.000000e+00</td>\n",
       "      <td>1.000000</td>\n",
       "    </tr>\n",
       "    <tr>\n",
       "      <th>3</th>\n",
       "      <td>airplane\\35.jpg</td>\n",
       "      <td>not-animals</td>\n",
       "      <td>NaN</td>\n",
       "      <td>1.604831e-15</td>\n",
       "      <td>1.000000</td>\n",
       "    </tr>\n",
       "    <tr>\n",
       "      <th>4</th>\n",
       "      <td>airplane\\38.jpg</td>\n",
       "      <td>not-animals</td>\n",
       "      <td>NaN</td>\n",
       "      <td>2.590355e-05</td>\n",
       "      <td>0.999974</td>\n",
       "    </tr>\n",
       "  </tbody>\n",
       "</table>\n",
       "</div>"
      ],
      "text/plain": [
       "         file_name actual_class  group_name  score animals  score not-animals\n",
       "0  airplane\\19.jpg  not-animals         NaN   1.389156e-10           1.000000\n",
       "1  airplane\\23.jpg  not-animals         NaN   2.630956e-35           1.000000\n",
       "2  airplane\\24.jpg  not-animals         NaN   0.000000e+00           1.000000\n",
       "3  airplane\\35.jpg  not-animals         NaN   1.604831e-15           1.000000\n",
       "4  airplane\\38.jpg  not-animals         NaN   2.590355e-05           0.999974"
      ]
     },
     "metadata": {},
     "output_type": "display_data"
    },
    {
     "name": "stdout",
     "output_type": "stream",
     "text": [
      "\n",
      "Fold 2:\n"
     ]
    },
    {
     "data": {
      "text/html": [
       "<div>\n",
       "<style scoped>\n",
       "    .dataframe tbody tr th:only-of-type {\n",
       "        vertical-align: middle;\n",
       "    }\n",
       "\n",
       "    .dataframe tbody tr th {\n",
       "        vertical-align: top;\n",
       "    }\n",
       "\n",
       "    .dataframe thead th {\n",
       "        text-align: right;\n",
       "    }\n",
       "</style>\n",
       "<table border=\"1\" class=\"dataframe\">\n",
       "  <thead>\n",
       "    <tr style=\"text-align: right;\">\n",
       "      <th></th>\n",
       "      <th>file_name</th>\n",
       "      <th>actual_class</th>\n",
       "      <th>group_name</th>\n",
       "      <th>score animals</th>\n",
       "      <th>score not-animals</th>\n",
       "    </tr>\n",
       "  </thead>\n",
       "  <tbody>\n",
       "    <tr>\n",
       "      <th>0</th>\n",
       "      <td>airplane\\0.jpg</td>\n",
       "      <td>not-animals</td>\n",
       "      <td>NaN</td>\n",
       "      <td>6.283641e-19</td>\n",
       "      <td>1.000000</td>\n",
       "    </tr>\n",
       "    <tr>\n",
       "      <th>1</th>\n",
       "      <td>airplane\\18.jpg</td>\n",
       "      <td>not-animals</td>\n",
       "      <td>NaN</td>\n",
       "      <td>5.938635e-14</td>\n",
       "      <td>1.000000</td>\n",
       "    </tr>\n",
       "    <tr>\n",
       "      <th>2</th>\n",
       "      <td>airplane\\20.jpg</td>\n",
       "      <td>not-animals</td>\n",
       "      <td>NaN</td>\n",
       "      <td>8.717890e-10</td>\n",
       "      <td>1.000000</td>\n",
       "    </tr>\n",
       "    <tr>\n",
       "      <th>3</th>\n",
       "      <td>airplane\\26.jpg</td>\n",
       "      <td>not-animals</td>\n",
       "      <td>NaN</td>\n",
       "      <td>5.650820e-07</td>\n",
       "      <td>0.999999</td>\n",
       "    </tr>\n",
       "    <tr>\n",
       "      <th>4</th>\n",
       "      <td>airplane\\28.jpg</td>\n",
       "      <td>not-animals</td>\n",
       "      <td>NaN</td>\n",
       "      <td>1.943677e-11</td>\n",
       "      <td>1.000000</td>\n",
       "    </tr>\n",
       "  </tbody>\n",
       "</table>\n",
       "</div>"
      ],
      "text/plain": [
       "         file_name actual_class  group_name  score animals  score not-animals\n",
       "0   airplane\\0.jpg  not-animals         NaN   6.283641e-19           1.000000\n",
       "1  airplane\\18.jpg  not-animals         NaN   5.938635e-14           1.000000\n",
       "2  airplane\\20.jpg  not-animals         NaN   8.717890e-10           1.000000\n",
       "3  airplane\\26.jpg  not-animals         NaN   5.650820e-07           0.999999\n",
       "4  airplane\\28.jpg  not-animals         NaN   1.943677e-11           1.000000"
      ]
     },
     "metadata": {},
     "output_type": "display_data"
    },
    {
     "name": "stdout",
     "output_type": "stream",
     "text": [
      "\n",
      "etc...\n"
     ]
    }
   ],
   "source": [
    "folds = [pd.read_csv('./tmp/results/Fold 1.csv'),\n",
    "         pd.read_csv('./tmp/results/Fold 2.csv'),\n",
    "         pd.read_csv('./tmp/results/Fold 3.csv'),\n",
    "         pd.read_csv('./tmp/results/Fold 4.csv'),\n",
    "         pd.read_csv('./tmp/results/Fold 5.csv')]\n",
    "\n",
    "print(\"Fold 1:\")\n",
    "display(folds[0].head())\n",
    "print(\"\\nFold 2:\")\n",
    "display(folds[1].head())\n",
    "print(\"\\netc...\")"
   ]
  },
  {
   "cell_type": "markdown",
   "metadata": {},
   "source": [
    "The following function is based on this [example](http://scikit-learn.org/stable/auto_examples/model_selection/plot_roc_crossval.html) from the scikit-learn website."
   ]
  },
  {
   "cell_type": "code",
   "execution_count": 12,
   "metadata": {},
   "outputs": [],
   "source": [
    "def roc_for_cv(splits, positive_class, score_column, split_prefix='Fold', title='Receiver Operating Characteristic'):\n",
    "    \"\"\"Plot ROC curves from binary classification results stored in list of Pandas Dataframe. \n",
    "    \n",
    "    On one plot, plot an ROC curve for each Dataframe, an average ROC curve, and AUC for all curves.\n",
    "    \n",
    "    Arguments:\n",
    "        splits: list of Pandas Dataframes with an 'actual_class' column and a scores column\n",
    "        positive_class: string, name of the positive class \n",
    "        score_column: string, name of the scores column  \n",
    "        split_prefix: prefix string for legend labels \n",
    "        title: plot title string\n",
    "    \"\"\"\n",
    "\n",
    "    plt.rcParams['image.cmap'] = 'tab10'\n",
    "    \n",
    "    tprs = []\n",
    "    aucs = []\n",
    "    mean_fpr = np.linspace(0, 1, 100)\n",
    "\n",
    "    for i, split in enumerate(splits):\n",
    "        y_score = split[score_column]\n",
    "        y_true = pd.get_dummies(split['actual_class'])[positive_class]\n",
    "\n",
    "        # Compute ROC curve and area under the curve\n",
    "        fpr, tpr, thresholds = roc_curve(y_true, y_score)\n",
    "        tprs.append(interp(mean_fpr, fpr, tpr))\n",
    "        tprs[-1][0] = 0.0\n",
    "        roc_auc = auc(fpr, tpr)\n",
    "        aucs.append(roc_auc)\n",
    "        plt.plot(fpr, tpr, lw=1, alpha=0.3,\n",
    "                 label='ROC %s %d (AUC = %0.2f)' % (split_prefix, i + 1, roc_auc))\n",
    "\n",
    "    plt.plot([0, 1], [0, 1], linestyle='--', lw=2, color='0.66',\n",
    "             label='Random Chance')\n",
    "\n",
    "    mean_tpr = np.mean(tprs, axis=0)\n",
    "    mean_tpr[-1] = 1.0\n",
    "    mean_auc = auc(mean_fpr, mean_tpr)\n",
    "    std_auc = np.std(aucs)\n",
    "    plt.plot(mean_fpr, mean_tpr, color='b',\n",
    "             label=r'Mean ROC (AUC = %0.2f $\\pm$ %0.2f)' % (mean_auc, std_auc),\n",
    "             lw=2, alpha=.8)\n",
    "\n",
    "    std_tpr = np.std(tprs, axis=0)\n",
    "    tprs_upper = np.minimum(mean_tpr + std_tpr, 1)\n",
    "    tprs_lower = np.maximum(mean_tpr - std_tpr, 0)\n",
    "    plt.fill_between(mean_fpr, tprs_lower, tprs_upper, color='grey', alpha=.2,\n",
    "                     label=r'$\\pm$ 1 std. dev.')\n",
    "\n",
    "    plt.xlim([-0.05, 1.05])\n",
    "    plt.ylim([-0.05, 1.05])\n",
    "    plt.xlabel('False Positive Rate')\n",
    "    plt.ylabel('True Positive Rate')\n",
    "    plt.title(title)\n",
    "    plt.legend(loc=\"lower right\")\n",
    "    plt.show() "
   ]
  },
  {
   "cell_type": "code",
   "execution_count": 13,
   "metadata": {},
   "outputs": [
    {
     "data": {
      "image/png": "[encoded data removed]",
      "text/plain": [
       "<Figure size 432x288 with 1 Axes>"
      ]
     },
     "metadata": {
      "needs_background": "light"
     },
     "output_type": "display_data"
    }
   ],
   "source": [
    "roc_for_cv(folds, positive_class='animals', score_column='score animals')"
   ]
  }
 ],
 "metadata": {
  "kernelspec": {
   "display_name": "Python 3",
   "language": "python",
   "name": "python3"
  },
  "language_info": {
   "codemirror_mode": {
    "name": "ipython",
    "version": 3
   },
   "file_extension": ".py",
   "mimetype": "text/x-python",
   "name": "python",
   "nbconvert_exporter": "python",
   "pygments_lexer": "ipython3",
   "version": "3.6.6"
  }
 },
 "nbformat": 4,
 "nbformat_minor": 2
}
